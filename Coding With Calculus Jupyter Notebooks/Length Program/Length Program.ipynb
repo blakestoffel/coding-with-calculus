{
 "cells": [
  {
   "cell_type": "markdown",
   "id": "86de6572-cb3e-411b-b460-baeef4498f81",
   "metadata": {},
   "source": [
    "Length Program"
   ]
  },
  {
   "cell_type": "code",
   "execution_count": 13,
   "id": "a8f77632-0b68-49c4-9259-30c051b01e0f",
   "metadata": {},
   "outputs": [
    {
     "data": {
      "image/png": "[encoded data removed]",
      "text/plain": [
       "<Figure size 750x350 with 1 Axes>"
      ]
     },
     "metadata": {},
     "output_type": "display_data"
    }
   ],
   "source": [
    "import numpy as np\n",
    "from matplotlib import pyplot as plt\n",
    "\n",
    "plt.rcParams[\"figure.figsize\"] = [7.50, 3.50]\n",
    "plt.rcParams[\"figure.autolayout\"] = True\n",
    "\n",
    "def f(x):\n",
    "   return x**2 - 2*x\n",
    "\n",
    "x = np.linspace(-1, 2.5, 100)\n",
    "\n",
    "plt.plot(x, f(x), color='red')\n",
    "plt.grid(True)\n",
    "plt.show()"
   ]
  },
  {
   "cell_type": "markdown",
   "id": "d2deddc2-9fa4-4f95-b993-a754234f69b4",
   "metadata": {},
   "source": [
    "Answers to 2.2 through 2.5 in the code comments below."
   ]
  },
  {
   "cell_type": "code",
   "execution_count": 2,
   "id": "21a257cb-be63-42f1-95aa-296ec7a0da9e",
   "metadata": {},
   "outputs": [
    {
     "name": "stdout",
     "output_type": "stream",
     "text": [
      "0 0.5590169943749475\n",
      "1 0.5590169943749475\n",
      "2 1.118033988749895\n"
     ]
    }
   ],
   "source": [
    "import math\n",
    "\n",
    "\n",
    "def fnf(x):  return x**2  # this instructs the program to work with f(x) = x^2 \n",
    "xinitial = 0\n",
    "xfinal = 1\n",
    "numberofsteps = 2 # gives the number of segments to be measured (Question 3)\n",
    "deltax = (xfinal-xinitial)/numberofsteps\n",
    "total = 0\n",
    "for k in range(numberofsteps):\n",
    "    x1 = xinitial + (k-1)*deltax # gives the left endpoint x value \n",
    "    xr = xinitial + k*deltax #gives the right endpoint x value\n",
    "    y1 = fnf(x1) # gives the left endpoint y value \n",
    "    yr = fnf(xr) # gives the right endpoint y value\n",
    "    segment = math.sqrt((xr-x1)**2 + (yr - y1)**2) #calculates the k-th segment length. Base is xr-x1 and hight is yr-y1\n",
    "    total = total + segment\n",
    "    print(k, segment)\n",
    "print (numberofsteps, total)"
   ]
  },
  {
   "cell_type": "code",
   "execution_count": 3,
   "id": "4f9d9d8b-0da3-42c3-b90e-a3b1593542b7",
   "metadata": {},
   "outputs": [],
   "source": [
    "import math\n",
    "\n",
    "\n",
    "def fnf(x):  return x**2  # this instructs the program to work with f(x) = x^2 \n",
    "\n",
    "def length(z, xfin):\n",
    "    xinitial = 0\n",
    "    xfinal = xfin\n",
    "    numberofsteps = z # gives the number of segments to be measured (Question 3)\n",
    "    deltax = (xfinal-xinitial)/numberofsteps\n",
    "    total = 0\n",
    "    for k in range(numberofsteps):\n",
    "        x1 = xinitial + (k-1)*deltax # gives the left endpoint x value \n",
    "        xr = xinitial + k*deltax #gives the right endpoint x value\n",
    "        y1 = fnf(x1) # gives the left endpoint y value \n",
    "        yr = fnf(xr) # gives the right endpoint y value\n",
    "        segment = math.sqrt((xr-x1)**2 + (yr - y1)**2) #calculates the k-th segment length. Base is xr-x1 and hight is yr-y1\n",
    "        total = total + segment\n",
    "        #print(k, segment)\n",
    "    print (numberofsteps, total)\n",
    "    return total"
   ]
  },
  {
   "cell_type": "code",
   "execution_count": 4,
   "id": "ebb97785-b7a3-43e5-b323-aab40ded6922",
   "metadata": {},
   "outputs": [
    {
     "name": "stdout",
     "output_type": "stream",
     "text": [
      "200 1.4727830718444779\n",
      "2000 1.478325028585655\n",
      "20000 1.4788810561955084\n",
      "200000 1.4789366772252241\n",
      "2000000 1.4789422395108391\n"
     ]
    },
    {
     "data": {
      "text/plain": [
       "1.4789422395108391"
      ]
     },
     "execution_count": 4,
     "metadata": {},
     "output_type": "execute_result"
    }
   ],
   "source": [
    "# Answer to 2.3 - 7\n",
    "length(200,1)\n",
    "length(2000,1)\n",
    "length(20000,1)\n",
    "length(200000,1)\n",
    "length(2000000,1)"
   ]
  },
  {
   "cell_type": "code",
   "execution_count": 5,
   "id": "57b23581-5eb7-4d03-8743-34bdd859a5ab",
   "metadata": {},
   "outputs": [
    {
     "name": "stdout",
     "output_type": "stream",
     "text": [
      "20000000 1.4789427957414765\n",
      "30000000 1.478942816342523\n",
      "100000000 1.4789428451835969\n"
     ]
    },
    {
     "data": {
      "text/plain": [
       "1.4789428451835969"
      ]
     },
     "execution_count": 5,
     "metadata": {},
     "output_type": "execute_result"
    }
   ],
   "source": [
    "#Answer to 2.3 - 8\n",
    "\n",
    "length(20000000,1)\n",
    "length(30000000,1)\n",
    "length(100000000,1)\n",
    "\n",
    "#honestly not sure how many steps I'd have to go to to get stabilized at 8 steps "
   ]
  },
  {
   "cell_type": "code",
   "execution_count": 6,
   "id": "66005d64-31dc-44f8-8f6b-2222e6a94e4e",
   "metadata": {},
   "outputs": [
    {
     "name": "stdout",
     "output_type": "stream",
     "text": [
      "2000 9.922671485620338\n",
      "3.03 9.922671485620338\n",
      "2000 9.92880886621017\n",
      "3.0309999999999997 9.92880886621017\n",
      "2000 9.934948218131597\n",
      "3.0319999999999996 9.934948218131597\n",
      "2000 9.94108954140183\n",
      "3.0329999999999995 9.94108954140183\n",
      "2000 9.94723283603816\n",
      "3.0339999999999994 9.94723283603816\n",
      "2000 9.953378102057727\n",
      "3.0349999999999993 9.953378102057727\n",
      "2000 9.959525339477736\n",
      "3.035999999999999 9.959525339477736\n",
      "2000 9.965674548315391\n",
      "3.036999999999999 9.965674548315391\n",
      "2000 9.971825728587804\n",
      "3.037999999999999 9.971825728587804\n",
      "2000 9.97797888031215\n",
      "3.038999999999999 9.97797888031215\n",
      "2000 9.98413400350553\n",
      "3.0399999999999987 9.98413400350553\n",
      "2000 9.990291098185047\n",
      "3.0409999999999986 9.990291098185047\n",
      "2000 9.996450164367797\n",
      "3.0419999999999985 9.996450164367797\n",
      "2000 10.00261120207087\n",
      "3.0429999999999984 10.00261120207087\n"
     ]
    }
   ],
   "source": [
    "xtry = 3.03\n",
    "len = 0\n",
    "while (len<=10):\n",
    "    len = length(2000, xtry)\n",
    "    print(xtry, len)\n",
    "    xtry = xtry + .001\n",
    "    \n",
    "#based on this the lenght is ten around x = 3.042. I solved this by reducing the inverval I increased x by "
   ]
  },
  {
   "cell_type": "code",
   "execution_count": 7,
   "id": "ece29608-6ca5-45c7-8eb1-fa5123f8aab4",
   "metadata": {},
   "outputs": [],
   "source": [
    "import math\n",
    "\n",
    "\n",
    "def fnf(x):  return x**3  # this instructs the program to work with f(x) = x^2 \n",
    "\n",
    "def lengthcube(z, xfin):\n",
    "    xinitial = 0\n",
    "    xfinal = xfin\n",
    "    numberofsteps = z # gives the number of segments to be measured (Question 3)\n",
    "    deltax = (xfinal-xinitial)/numberofsteps\n",
    "    total = 0\n",
    "    for k in range(numberofsteps):\n",
    "        x1 = xinitial + (k-1)*deltax # gives the left endpoint x value \n",
    "        xr = xinitial + k*deltax #gives the right endpoint x value\n",
    "        y1 = fnf(x1) # gives the left endpoint y value \n",
    "        yr = fnf(xr) # gives the right endpoint y value\n",
    "        segment = math.sqrt((xr-x1)**2 + (yr - y1)**2) #calculates the k-th segment length. Base is xr-x1 and hight is yr-y1\n",
    "        total = total + segment\n",
    "        #print(k, segment)\n",
    "    print (numberofsteps, total)\n",
    "    return total"
   ]
  },
  {
   "cell_type": "code",
   "execution_count": 8,
   "id": "ff32ca3d-1abb-4acc-8fc2-a5163bc5d41c",
   "metadata": {},
   "outputs": [
    {
     "name": "stdout",
     "output_type": "stream",
     "text": [
      "1000000 1.5478634924086776\n",
      "2000000 1.5478645735454883\n"
     ]
    },
    {
     "data": {
      "text/plain": [
       "1.5478645735454883"
      ]
     },
     "execution_count": 8,
     "metadata": {},
     "output_type": "execute_result"
    }
   ],
   "source": [
    "#for 2.3 10 I modified the original program. I don't think the coding.csel has the power to solve all the way to 8 decimal places so this is the furthest I ran it to. \n",
    "lengthcube(1000000,1)\n",
    "lengthcube(2000000,1)"
   ]
  }
 ],
 "metadata": {
  "kernelspec": {
   "display_name": "Python 3 (ipykernel)",
   "language": "python",
   "name": "python3"
  },
  "language_info": {
   "codemirror_mode": {
    "name": "ipython",
    "version": 3
   },
   "file_extension": ".py",
   "mimetype": "text/x-python",
   "name": "python",
   "nbconvert_exporter": "python",
   "pygments_lexer": "ipython3",
   "version": "3.10.8"
  }
 },
 "nbformat": 4,
 "nbformat_minor": 5
}
