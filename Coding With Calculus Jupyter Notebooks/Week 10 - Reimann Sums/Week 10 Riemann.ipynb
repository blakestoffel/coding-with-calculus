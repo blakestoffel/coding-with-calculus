{
 "cells": [
  {
   "cell_type": "code",
   "execution_count": 1,
   "id": "df656119-dea4-4cc5-8741-5ca14b09da76",
   "metadata": {},
   "outputs": [],
   "source": [
    "import matplotlib.pyplot as plt\n",
    "import numpy as np\n",
    "import math\n",
    "import random"
   ]
  },
  {
   "cell_type": "markdown",
   "id": "5d0e090d-8373-4af0-a058-fd0f368bcc81",
   "metadata": {},
   "source": [
    "### Activity 1\n",
    "\n",
    "This codes the RIEMANN from p362 to include left, right, and midpoint versions."
   ]
  },
  {
   "cell_type": "code",
   "execution_count": 2,
   "id": "c3623a38-d230-4041-b74c-d6dae5beab30",
   "metadata": {},
   "outputs": [
    {
     "name": "stdout",
     "output_type": "stream",
     "text": [
      "Left Riemann Sum\n",
      "1 0.7071067811865476 0.7071067811865476\n",
      "1.5 1.0458250331675945 1.7529318143541421\n",
      "2.0 1.5 3.252931814354142\n",
      "2.5 2.038688303787511 5.291620118141653\n",
      "Right Riemann Sum\n",
      "1.5 1.0458250331675945 1.0458250331675945\n",
      "2.0 1.5 2.5458250331675947\n",
      "2.5 2.038688303787511 4.584513336955106\n",
      "3.0 2.6457513110645907 7.230264648019697\n",
      "Midpoint Riemann Sum\n",
      "1.25 0.85923294280422 0.85923294280422\n",
      "1.75 1.260890062614501 2.120123005418721\n",
      "2.25 1.7600159800410904 3.880138985459811\n",
      "2.75 2.3343561746228874 6.2144951600826985\n"
     ]
    },
    {
     "data": {
      "text/plain": [
       "6.2144951600826985"
      ]
     },
     "execution_count": 2,
     "metadata": {},
     "output_type": "execute_result"
    },
    {
     "data": {
      "image/png": "[encoded data removed]",
      "text/plain": [
       "<Figure size 640x480 with 1 Axes>"
      ]
     },
     "metadata": {},
     "output_type": "display_data"
    }
   ],
   "source": [
    "def fnf(x):\n",
    "    return np.sqrt(1 + x**3)\n",
    "\n",
    "\n",
    "def left(func, a, b, numberofsteps, plot, display):\n",
    "    print(\"Left Riemann Sum\")\n",
    "    deltax = (b-a)/numberofsteps\n",
    "    x = a\n",
    "    accumulation = 0\n",
    "    for k in range (numberofsteps):\n",
    "        deltaS = func(x)*deltax\n",
    "        accumulation = accumulation + deltaS\n",
    "        if display:\n",
    "            print(x, deltaS, accumulation)\n",
    "        \n",
    "        if plot:#this plots the box of the Rieman sum boxes if requested\n",
    "            xplot = [x, x, x+deltax, x+deltax]\n",
    "            yplot = [0, func(x), func(x), 0]\n",
    "            plt.plot(xplot, yplot,color=\"blue\") \n",
    "            plt.fill_between([x, x + deltax], 0, func(x), color=\"blue\", alpha=0.3)  # Shading\n",
    "\n",
    "            xvals = np.linspace(a, b, 1000)\n",
    "            plt.plot(xvals, func(xvals), color =\"black\" )\n",
    "            plt.grid(True)\n",
    "            plt.show              \n",
    "            x = x + deltax #set x to for the next interval\n",
    "    return accumulation\n",
    "  \n",
    "        \n",
    "def right(func, a, b, numberofsteps, plot, display):\n",
    "    print(\"Right Riemann Sum\")\n",
    "    deltax = (b-a)/numberofsteps\n",
    "    x = a + deltax #sets first x to the right point\n",
    "    accumulation = 0\n",
    "    for k in range (numberofsteps):\n",
    "\n",
    "        deltaS = func(x)*deltax\n",
    "        accumulation = accumulation + deltaS\n",
    "        if display:\n",
    "            print(x, deltaS, accumulation)\n",
    "        \n",
    "        if plot:#this plots the box of the Rieman sum boxes if requested\n",
    "            xplot = [x-deltax, x-deltax, x, x]\n",
    "            yplot = [0, func(x), func(x), 0]\n",
    "            plt.plot(xplot, yplot,color=\"red\")\n",
    "            plt.fill_between([x - deltax, x], 0, func(x), color=\"red\", alpha=0.3)\n",
    "            \n",
    "             #plots the original function\n",
    "            xvals = np.linspace(a, b, 1000)\n",
    "            plt.plot(xvals, func(xvals), color =\"black\" )\n",
    "            plt.grid(True)\n",
    "            plt.show  \n",
    "\n",
    "        x = x + deltax\n",
    "    return accumulation\n",
    "        \n",
    "        \n",
    "def midpoint(func, a, b, numberofsteps, plot, display):\n",
    "    print(\"Midpoint Riemann Sum\")\n",
    "    deltax = (b-a)/numberofsteps #sets first x to the midpoint\n",
    "    x = a + deltax/2\n",
    "    accumulation = 0\n",
    "    for k in range (numberofsteps):\n",
    "        deltaS = func(x)*deltax\n",
    "        accumulation = accumulation + deltaS\n",
    "        \n",
    "        if display:\n",
    "            print(x, deltaS, accumulation)\n",
    "        \n",
    "        if plot:#this plots the box of the Rieman sum boxes if requested\n",
    "            xplot = [x-deltax/2, x-deltax/2, x+deltax/2, x+deltax/2]\n",
    "            yplot = [0, func(x), func(x), 0]\n",
    "            plt.plot(xplot, yplot,color=\"green\") \n",
    "            plt.fill_between([x - deltax / 2, x + deltax / 2], 0, func(x), color=\"green\", alpha=0.3)  # Shading\n",
    "            xvals = np.linspace(a, b, 1000)\n",
    "            plt.plot(xvals, func(xvals), color =\"black\" )\n",
    "            plt.grid(True)\n",
    "            plt.show  \n",
    "\n",
    "        x = x + deltax\n",
    "    return accumulation    \n",
    "        \n",
    "a = 1\n",
    "b = 3\n",
    "numberofsteps = 4\n",
    "\n",
    "left (fnf, a, b, numberofsteps, True, True)\n",
    "right (fnf, a, b, numberofsteps, True, True)\n",
    "midpoint (fnf, a, b, numberofsteps, True, True)\n",
    "\n"
   ]
  },
  {
   "cell_type": "markdown",
   "id": "d4331c40-fcae-4b02-a135-4aa8b4522fd0",
   "metadata": {},
   "source": [
    "### Activity 2\n",
    "\n",
    "For each of the 3 versions of RIEMANN, create a single \"hero\" graphic that illustrates the difference between the 3 methods."
   ]
  },
  {
   "cell_type": "code",
   "execution_count": 3,
   "id": "bd3aef79-2ed8-46a7-a288-d682369eb22a",
   "metadata": {},
   "outputs": [
    {
     "name": "stdout",
     "output_type": "stream",
     "text": [
      "Left Riemann Sum\n"
     ]
    },
    {
     "data": {
      "text/plain": [
       "Text(0.5, 1.0, 'Left Reimann Sum')"
      ]
     },
     "execution_count": 3,
     "metadata": {},
     "output_type": "execute_result"
    },
    {
     "data": {
      "image/png": "[encoded data removed]",
      "text/plain": [
       "<Figure size 640x480 with 1 Axes>"
      ]
     },
     "metadata": {},
     "output_type": "display_data"
    }
   ],
   "source": [
    "left (fnf, a, b, numberofsteps*2, True, False)\n",
    "plt.title('Left Reimann Sum')"
   ]
  },
  {
   "cell_type": "markdown",
   "id": "618fe898-60df-455a-8bbc-20ecfb944ccf",
   "metadata": {},
   "source": [
    "The Left Riemann Sum calculates based on the value of the left endpoint of each subinterval. In the case of an increasing function like above, this means the value will be slightly less than the actual function as demonstrated by the white space between the approximations and the function. If the function was decreasing, this would result in an over estimation. "
   ]
  },
  {
   "cell_type": "code",
   "execution_count": 4,
   "id": "1065bb97-35d1-4708-9c25-66107469c8b8",
   "metadata": {},
   "outputs": [
    {
     "name": "stdout",
     "output_type": "stream",
     "text": [
      "Right Riemann Sum\n"
     ]
    },
    {
     "data": {
      "text/plain": [
       "Text(0.5, 0, 'x')"
      ]
     },
     "execution_count": 4,
     "metadata": {},
     "output_type": "execute_result"
    },
    {
     "data": {
      "image/png": "[encoded data removed]",
      "text/plain": [
       "<Figure size 640x480 with 1 Axes>"
      ]
     },
     "metadata": {},
     "output_type": "display_data"
    }
   ],
   "source": [
    "right (fnf, a, b, numberofsteps*2, True, False)\n",
    "plt.title('Right Reimann Sum')\n",
    "plt.ylabel(\"f(x)\")\n",
    "plt.xlabel(\"x\")"
   ]
  },
  {
   "cell_type": "markdown",
   "id": "ff83f64c-1b6a-4979-8876-bd0ed7bb458d",
   "metadata": {},
   "source": [
    "The Right Reimann Sum calculates using the right side of each subinterval. In a case of an increasing function, this results in an sum that is slightly larger than the actual area under the function. As with the Left Sum, this would be the opposite compared to a decreasing function. "
   ]
  },
  {
   "cell_type": "code",
   "execution_count": 5,
   "id": "a81c2422-8a86-42d7-b683-d175160c0fc0",
   "metadata": {},
   "outputs": [
    {
     "name": "stdout",
     "output_type": "stream",
     "text": [
      "Midpoint Riemann Sum\n"
     ]
    },
    {
     "data": {
      "text/plain": [
       "Text(0.5, 0, 'x')"
      ]
     },
     "execution_count": 5,
     "metadata": {},
     "output_type": "execute_result"
    },
    {
     "data": {
      "image/png": "[encoded data removed]",
      "text/plain": [
       "<Figure size 640x480 with 1 Axes>"
      ]
     },
     "metadata": {},
     "output_type": "display_data"
    }
   ],
   "source": [
    "midpoint (fnf, a, b, numberofsteps*2, True, False)\n",
    "plt.title('Midpoint Reimann Sum')\n",
    "plt.ylabel(\"f(x)\")\n",
    "plt.xlabel(\"x\")"
   ]
  },
  {
   "cell_type": "markdown",
   "id": "291c5bc7-8b06-47e0-a083-ca0e2ffba151",
   "metadata": {},
   "source": [
    "The midpoint Riemann Sum calculates at the midpoint of each subinterval and therefore has some error above and below the function which averages out much closer to the actual integral with less required subintervals. The error is also less dependent on whether the function is increasing or decreasing. "
   ]
  },
  {
   "cell_type": "markdown",
   "id": "4755790b-f387-4ac6-aeac-b4f45b9fbaa5",
   "metadata": {},
   "source": [
    "### Activity 3 \n",
    "Experiment with  questions 4 - 12 on pages 366 - 368, either  or on your own, coding as much or as little as you need to show the point. Once you have the code this should be pretty quick. Add a summary of the advantages and disadvantages of the three methods."
   ]
  },
  {
   "cell_type": "code",
   "execution_count": 6,
   "id": "2de63e04-10c7-41c9-87d9-57e6b5f51314",
   "metadata": {},
   "outputs": [
    {
     "name": "stdout",
     "output_type": "stream",
     "text": [
      "Left Riemann Sum\n",
      "40 2.8284271247461894\n",
      "Left Riemann Sum\n",
      "400 2.828427124746173\n",
      "Left Riemann Sum\n",
      "4000 2.828427124746021\n",
      "Left Riemann Sum\n",
      "40000 2.828427124744823\n",
      "Left Riemann Sum\n",
      "400000 2.8284271247403834\n"
     ]
    }
   ],
   "source": [
    "#4a) Calculate left endpoint Riemann sums for the function √(1 + x3) on\n",
    "#the interval [1, 3] using 40, 400, 4000, and 40000 equally-spaced subintervals.\n",
    "#How many ddecimal points in this sequence have stabilized?\n",
    "\n",
    "numsteps = [40, 400, 4000, 40000, 400000]\n",
    "a = 1\n",
    "b = 3\n",
    "for num in numsteps:\n",
    "    print (num, left(fnf,a, b, num, False, False))\n",
    "    "
   ]
  },
  {
   "cell_type": "markdown",
   "id": "3520a2c4-30e0-4a75-a7ef-22c9b82f9f5a",
   "metadata": {},
   "source": [
    "The first two decimal places have stabilized in this sum, three when I increased the number of subintervals to 400000. "
   ]
  },
  {
   "cell_type": "code",
   "execution_count": 7,
   "id": "15e8e2d4-2589-474a-b84b-49b00b3ee82d",
   "metadata": {},
   "outputs": [
    {
     "name": "stdout",
     "output_type": "stream",
     "text": [
      "Left Riemann Sum\n"
     ]
    },
    {
     "data": {
      "text/plain": [
       "2.8284271248021677"
      ]
     },
     "execution_count": 7,
     "metadata": {},
     "output_type": "execute_result"
    }
   ],
   "source": [
    "# 4b)The left endpoint Riemann sums for √1 + x3 on the interval [1, 3] seem\n",
    "# to be approaching a limit as the number of subintervals increases without\n",
    "# bound. Give the numerical value of that limit, accurate to four decimal\n",
    "# places.\n",
    "\n",
    "left (fnf,a, b, 10000000, False, False)"
   ]
  },
  {
   "cell_type": "markdown",
   "id": "fa05215c-10e4-4a98-96e3-a109763b63cb",
   "metadata": {},
   "source": [
    "The limit I found is 6.2299 four decimal places. "
   ]
  },
  {
   "cell_type": "code",
   "execution_count": 8,
   "id": "b6b11f7f-c717-490d-b0fe-ba6a9dd26779",
   "metadata": {},
   "outputs": [
    {
     "name": "stdout",
     "output_type": "stream",
     "text": [
      "Left Riemann Sum\n",
      "40 21.166010488516733\n",
      "Left Riemann Sum\n",
      "400 21.166010488516815\n",
      "Left Riemann Sum\n",
      "4000 21.166010488515166\n",
      "Left Riemann Sum\n",
      "40000 21.166010488531597\n",
      "Left Riemann Sum\n",
      "400000 21.16601048852531\n"
     ]
    }
   ],
   "source": [
    "#4c) Calculate left endpoint Riemann sums for the function √1 + x3 on the\n",
    "#interval [3, 7]. Construct a sequence of Riemann sums using more and more\n",
    "#subintervals, until you can determine the limiting value of these sums, accu-\n",
    "#rate to three decimal places. What is that limit?\n",
    "\n",
    "\n",
    "numsteps = [40, 400, 4000, 40000, 400000]\n",
    "a = 3\n",
    "b = 7\n",
    "for num in numsteps:\n",
    "    print (num, left(fnf, a, b, num, False, False))\n",
    "    "
   ]
  },
  {
   "cell_type": "markdown",
   "id": "c43e1d8b-acf4-4bec-9fc1-5b9863960898",
   "metadata": {},
   "source": [
    "The limit when applied between 3 and 7 approaches 45.819 accurate to three decimal places."
   ]
  },
  {
   "cell_type": "code",
   "execution_count": 9,
   "id": "6a4582e9-dc0d-4120-a46a-571742f87370",
   "metadata": {},
   "outputs": [
    {
     "name": "stdout",
     "output_type": "stream",
     "text": [
      "Left Riemann Sum\n",
      "40 8.485281374238562\n",
      "Left Riemann Sum\n",
      "400 8.485281374238628\n",
      "Left Riemann Sum\n",
      "4000 8.485281374238356\n",
      "Left Riemann Sum\n",
      "40000 8.485281374242264\n",
      "Left Riemann Sum\n",
      "400000 8.48528137424832\n"
     ]
    }
   ],
   "source": [
    "#d) Calculate left endpoint Riemann sums for the function √1 + x3 on the\n",
    "#interval [1, 7] in order to determine the limiting value of the sums to three\n",
    "#decimal place accuracy. What is that value? How are the limiting values in\n",
    "#parts (b), (c), and (d) related? How are the corresponding intervals related?\n",
    "\n",
    "numsteps = [40, 400, 4000, 40000, 400000]\n",
    "a = 1\n",
    "b = 7\n",
    "for num in numsteps:\n",
    "    print (num, left(fnf, a, b, num, False, False))"
   ]
  },
  {
   "cell_type": "code",
   "execution_count": 10,
   "id": "d68a95a6-1876-4236-9551-0e9ba49f83c6",
   "metadata": {},
   "outputs": [
    {
     "data": {
      "text/plain": [
       "52.0498"
      ]
     },
     "execution_count": 10,
     "metadata": {},
     "output_type": "execute_result"
    }
   ],
   "source": [
    "6.2299+45.8199"
   ]
  },
  {
   "cell_type": "markdown",
   "id": "1120449b-b1b0-41eb-a304-bc88f2e7b23e",
   "metadata": {},
   "source": [
    "The limit from 1 to 7 is 52.0498 which is the same as the limit from 1 to 3 added to the limit from 3 to 7 as demonstrated above. "
   ]
  },
  {
   "cell_type": "markdown",
   "id": "7ad9c38f-2a6f-4760-a94e-5c7dd20d81a6",
   "metadata": {},
   "source": [
    "5. Modify RIEMANN so it will calculate a Riemann sum by sampling the given function at the midpoint of each subinterval, instead of the left end- point. Describe exactly how you changed the program to do this.\n",
    "\n",
    "The RIEMANN program was already modified above to use the midpoint of each subinterval. It was done by adding half the interval (deltax/2) to the starting value of x (a in this case) to get a point halfway through each interval. Then adding deltax to that value has a value of x midway between the next interval. The rest of the code did not need to be modified. "
   ]
  },
  {
   "cell_type": "code",
   "execution_count": 11,
   "id": "3eff06f1-b838-4a43-b0de-dff3c3cbabae",
   "metadata": {},
   "outputs": [
    {
     "name": "stdout",
     "output_type": "stream",
     "text": [
      "Midpoint Riemann Sum\n",
      "40 6.229804122734282\n",
      "Midpoint Riemann Sum\n",
      "400 6.229957835175769\n",
      "Midpoint Riemann Sum\n",
      "4000 6.229959372356611\n",
      "Midpoint Riemann Sum\n",
      "40000 6.229959387732263\n"
     ]
    }
   ],
   "source": [
    "#6. a) Calculate midpoint Riemann sums for the function √1 + x3 on the\n",
    "#interval [1, 3] using 40, 400, 4000, and 40000 equally-spaced subintervals.\n",
    "#How many decimal points in this sequence have stabilized?\n",
    "\n",
    "numsteps = [40, 400, 4000, 40000]\n",
    "a = 1\n",
    "b = 3\n",
    "for num in numsteps:\n",
    "    print (num, midpoint(fnf,a, b, num, False, False))\n",
    "    "
   ]
  },
  {
   "cell_type": "markdown",
   "id": "47af33a7-16e2-4309-8af1-03ebac8117a8",
   "metadata": {},
   "source": [
    "It appears 7 decimal points have stabilized for this sequence."
   ]
  },
  {
   "cell_type": "markdown",
   "id": "042b31b5-884b-4653-a377-8283a5827a7f",
   "metadata": {},
   "source": [
    "6. b) Roughly how many subintervals are needed to make the midpoint Riemann sums for √1 + x3 on the interval [1, 3] stabilize out to the first four digits? What is the stable value? Compare this to the limiting value you found earlier for left endpoint Riemann sums. Is one value larger than the other; could they be the same?\n",
    "\n",
    "It appears the midpoint was stabilized to four digits after 400 intervals at 6.2299. This is the same as the limiting value I found on for the left endpoint, though overall this is slightly bigger. This makes sense given where the interval is taken, however if you take the interval out to infinity they will converge to the same number.\n",
    "\n",
    "6. c) Comment on the relative “eﬃciency” of midpoint Riemann sums versus left endpoint Riemann sums (at least for the function √1 + x3 on the interval [1, 3]). To get the same level of accuracy, an eﬃcient calculation will take fewer steps than an ineﬃcient one.\n",
    "\n",
    "The midpoint Riemann sum was significantly more efficient than the left, to get to stabilized for decimals the midpoint only took 400 intervals while the left required more than 4000 and closer to 40000 to fully stabilize."
   ]
  },
  {
   "cell_type": "code",
   "execution_count": 12,
   "id": "7831249b-94f6-462d-9239-a2aad0b58069",
   "metadata": {},
   "outputs": [
    {
     "name": "stdout",
     "output_type": "stream",
     "text": [
      "Right Riemann Sum\n",
      "40 6.327202149550815\n",
      "Right Riemann Sum\n",
      "400 6.239655715949005\n",
      "Right Riemann Sum\n",
      "4000 6.230928741202806\n",
      "Right Riemann Sum\n",
      "40000 6.2300563204246\n",
      "Right Riemann Sum\n",
      "400000 6.2299690810849775\n"
     ]
    }
   ],
   "source": [
    "#7. a) Modify RIEMANN to calculate right endpoint Riemann sums, and\n",
    "#use it to calculate right endpoint Riemann sums for the function √1 + x3 on\n",
    "#the interval [1, 3] using 40, 400, 4000, and 40000 equally-spaced subintervals.\n",
    "#How many digits in this sequence have stabilized?\n",
    "\n",
    "numsteps = [40, 400, 4000, 40000, 400000]\n",
    "a = 1\n",
    "b = 3\n",
    "for num in numsteps:\n",
    "    print (num, right(fnf,a, b, num, False, False))"
   ]
  },
  {
   "cell_type": "markdown",
   "id": "aec7a505-abd1-4fac-91d0-a90c4f9a919e",
   "metadata": {},
   "source": [
    "The right endpoint stabilized to three digits at 40000 subintervals, I bumped it up one more order of magnitude to get it to stabilize at the same value as left and midpoint.\n",
    "\n",
    "7. b) Comment on the eﬃciency of right endpoint Riemann sums as compared to left endpoint and to midpoint Riemann sums—at least as far as the function √1 + x3 is concerned.\n",
    "\n",
    "Right endpoint feels as efficient as left for stabilizing, but neither appears to be as efficient as midpoint. They also both converge from different directions (right from a higher value in this case)."
   ]
  },
  {
   "cell_type": "code",
   "execution_count": 13,
   "id": "b5cb8b5c-63ce-4377-ac06-0294382375ee",
   "metadata": {},
   "outputs": [
    {
     "name": "stdout",
     "output_type": "stream",
     "text": [
      "Left Riemann Sum\n",
      "20 Intervals from -1 to 1:  1.5522591631241593\n",
      "Left Riemann Sum\n",
      "50 Intervals from -1 to 1:  0.0\n"
     ]
    },
    {
     "data": {
      "image/png": "[encoded data removed]",
      "text/plain": [
       "<Figure size 640x480 with 1 Axes>"
      ]
     },
     "metadata": {},
     "output_type": "display_data"
    }
   ],
   "source": [
    "#8. Calculate left endpoint Riemann sums for the function\n",
    "#f (x) = √1− x2 on the interval [−1, 1].\n",
    "#Use 20 and 50 equally-spaced subintervals. Compare your values with the\n",
    "#estimates for the area of a semicircle given on page 356.\n",
    "def circle(x):\n",
    "    return np.sqrt(1 - x**2) #redefine fnf for the new function\n",
    "    \n",
    "print(\"20 Intervals from -1 to 1: \", left(circle,-1,1,20,True, False))\n",
    "print(\"50 Intervals from -1 to 1: \", left(circle,-1,1,50,False, False))"
   ]
  },
  {
   "cell_type": "markdown",
   "id": "1f4d4274-9ca6-4d6b-a945-55e92af0f9f2",
   "metadata": {},
   "source": [
    "I was able to get the same answers for both 20 and 50 intervals as on page 356."
   ]
  },
  {
   "cell_type": "code",
   "execution_count": 14,
   "id": "b1bae846-820f-4594-8edf-47f866f8eb54",
   "metadata": {},
   "outputs": [
    {
     "name": "stdout",
     "output_type": "stream",
     "text": [
      "Left Riemann Sum\n",
      "4 Intervals from 0 to Pi:  4.442882938158366\n",
      "Left Riemann Sum\n",
      "20 Intervals from 0 to Pi:  4.442882938158367\n"
     ]
    }
   ],
   "source": [
    "#9. a) Calculate left endpoint Riemann sums for the function\n",
    "#f (x) = √1 + cos2 x on the interval [0, π].\n",
    "#Use 4 and 20 equally-spaced subintervals. Compare your values with the\n",
    "#estimates for the length of the graph of y = sin x between 0 and π, given on\n",
    "#page 358.\n",
    "def nine(x):\n",
    "    return np.sqrt(1 + np.square(np.cos(x)))\n",
    "    \n",
    "a = 0\n",
    "b = np.pi\n",
    "\n",
    "print(\"4 Intervals from 0 to Pi: \", left(nine,a,b,4,False, False))\n",
    "print(\"20 Intervals from 0 to Pi: \", left(nine,a,b,20,False, False))\n"
   ]
  },
  {
   "cell_type": "markdown",
   "id": "484677c7-ea52-4909-8d7c-c4fcb7f68187",
   "metadata": {},
   "source": [
    "These sums closely match the values for the lenght of sin(x) between 0 and Pi given on page 358 with only the 20 segment requiring some rounding to get the fourth decimal place."
   ]
  },
  {
   "cell_type": "code",
   "execution_count": 15,
   "id": "3f8fb949-36b8-4236-a077-5f334df7b8a4",
   "metadata": {},
   "outputs": [
    {
     "name": "stdout",
     "output_type": "stream",
     "text": [
      "Left Riemann Sum\n",
      "1  Intervals from 0 to Pi:  4.442882938158366\n",
      "Left Riemann Sum\n",
      "8  Intervals from 0 to Pi:  4.442882938158366\n",
      "Left Riemann Sum\n",
      "27  Intervals from 0 to Pi:  4.442882938158366\n",
      "Left Riemann Sum\n",
      "64  Intervals from 0 to Pi:  4.442882938158366\n",
      "Left Riemann Sum\n",
      "125  Intervals from 0 to Pi:  4.442882938158371\n",
      "Left Riemann Sum\n",
      "216  Intervals from 0 to Pi:  4.442882938158375\n",
      "Left Riemann Sum\n",
      "343  Intervals from 0 to Pi:  4.442882938158371\n",
      "Left Riemann Sum\n",
      "512  Intervals from 0 to Pi:  4.442882938158365\n",
      "Left Riemann Sum\n",
      "729  Intervals from 0 to Pi:  4.442882938158346\n"
     ]
    }
   ],
   "source": [
    "#9. b) What is the limiting value of the Riemann sums, as the number of subin-\n",
    "#tervals becomes infinite? Find the limit to 11 decimal places accuracy.\n",
    "#10. Calculate left endpoint Riemann sums for the function\n",
    "\n",
    "\n",
    "\n",
    "for i in range(1,10):\n",
    "    num = i**3\n",
    "    print(num, \" Intervals from 0 to Pi: \", left(nine,a,b,num,False, False))"
   ]
  },
  {
   "cell_type": "markdown",
   "id": "9799d6e4-9e7e-4520-9397-57d68adbd3d8",
   "metadata": {},
   "source": [
    "The limit to 11 decimal places is 3.82019778902 which amazingly was reached after only 27 intervals."
   ]
  },
  {
   "cell_type": "code",
   "execution_count": 16,
   "id": "19968f0d-3de3-4fbb-a850-40bf791f211d",
   "metadata": {},
   "outputs": [
    {
     "name": "stdout",
     "output_type": "stream",
     "text": [
      "Left Riemann Sum\n",
      "100  Intervals from 0 to 4:  4.000000000000003\n",
      "Left Riemann Sum\n",
      "1000  Intervals from 0 to 4:  4.000000000000003\n",
      "Left Riemann Sum\n",
      "10000  Intervals from 0 to 4:  3.9999999999996247\n"
     ]
    }
   ],
   "source": [
    "#10. Calculate left endpoint Riemann sums for the function\n",
    "#f (x) = cos(x^2) on the interval [0, 4],\n",
    "#using 100, 1000, and 10000 equally-spaced subintervals.\n",
    "\n",
    "def ten(x):\n",
    "    return np.cos(x**2)\n",
    "\n",
    "a = 0\n",
    "b = 4\n",
    "intervals = [100, 1000, 10000]\n",
    "for num in intervals:\n",
    "    \n",
    "    print(num, \" Intervals from 0 to 4: \", left(ten,a,b,num,False, False))"
   ]
  },
  {
   "cell_type": "code",
   "execution_count": 17,
   "id": "721ec84a-a229-487d-82fb-cc758666932d",
   "metadata": {},
   "outputs": [
    {
     "name": "stdout",
     "output_type": "stream",
     "text": [
      "Left Riemann Sum\n",
      "100  Intervals from 2 to 3:  -0.0832293673094286\n",
      "Left Riemann Sum\n",
      "1000  Intervals from 2 to 3:  -0.08322936730942798\n",
      "Left Riemann Sum\n",
      "10000  Intervals from 2 to 3:  -0.08322936730943632\n",
      "Left Riemann Sum\n"
     ]
    },
    {
     "data": {
      "text/plain": [
       "-0.10320774749944361"
      ]
     },
     "execution_count": 17,
     "metadata": {},
     "output_type": "execute_result"
    },
    {
     "data": {
      "image/png": "[encoded data removed]",
      "text/plain": [
       "<Figure size 640x480 with 1 Axes>"
      ]
     },
     "metadata": {},
     "output_type": "display_data"
    }
   ],
   "source": [
    "#11. Calculate left endpoint Riemann sums for the function\n",
    "#f (x) = cos x /(1 + x^2) on the interval [2, 3],\n",
    "#using 10, 100, and 1000 equally-spaced subintervals. The Riemann sums are\n",
    "#all negative; why? (A suggestion: sketch the graph of f . What does that tell\n",
    "#you about the signs of the terms in a Riemann sum for f ?)\n",
    "\n",
    "def eleven(x):\n",
    "    return np.cos(x)/(1+x**2)\n",
    "\n",
    "a = 2\n",
    "b = 3\n",
    "intervals = [100, 1000, 10000]\n",
    "for num in intervals:\n",
    "    \n",
    "    print(num, \" Intervals from 2 to 3: \", left(eleven,a,b,num,False, False))\n",
    "    \n",
    "left(eleven,a,b,10,True, False)"
   ]
  },
  {
   "cell_type": "markdown",
   "id": "e18b418a-4963-4771-9931-ba2a6d850f3b",
   "metadata": {},
   "source": [
    "The sum is negative because all the values on that interval are negative. While negative area is impossible this would be the equivalent of driving in reverse on the \"drive to grandma's house\" example we use where you're moving closer to your starting point. "
   ]
  },
  {
   "cell_type": "code",
   "execution_count": 18,
   "id": "e3f4a99e-66cd-486d-a938-9c76eaf9014e",
   "metadata": {},
   "outputs": [
    {
     "name": "stdout",
     "output_type": "stream",
     "text": [
      "Midpoint Riemann Sum\n",
      "10 Intervals from -2 to 2: 0.000000000\n",
      "Midpoint Riemann Sum\n",
      "100 Intervals from -2 to 2: 0.000000000\n",
      "Midpoint Riemann Sum\n",
      "1000 Intervals from -2 to 2: 0.000000000\n",
      "Midpoint Riemann Sum\n"
     ]
    },
    {
     "data": {
      "text/plain": [
       "3.1086244689504383e-15"
      ]
     },
     "execution_count": 18,
     "metadata": {},
     "output_type": "execute_result"
    },
    {
     "data": {
      "image/png": "[encoded data removed]",
      "text/plain": [
       "<Figure size 640x480 with 1 Axes>"
      ]
     },
     "metadata": {},
     "output_type": "display_data"
    }
   ],
   "source": [
    "#12 a) Calculate midpoint Riemann sums for the function\n",
    "#H(z) = z3 on the interval [−2, 2],\n",
    "#using 10, 100, and 1000 equally-spaced subintervals. The Riemann sums are\n",
    "#all zero; why? (On some computers and calculators, you may find that there\n",
    "#will be a nonzero digit in the fourteenth or fifteenth decimal place – this is\n",
    "#due to “round-oﬀ error”.)\n",
    "\n",
    "def H(z):\n",
    "    return z**3\n",
    "\n",
    "a = -2\n",
    "b = 2\n",
    "intervals = [10, 100, 1000]\n",
    "for num in intervals:\n",
    "    result = midpoint(H, a, b, num, False, False)\n",
    "    print(f\"{num} Intervals from {a} to {b}: {result:.9f}\")\n",
    "    \n",
    "midpoint(H, a, b, 10, True, False)"
   ]
  },
  {
   "cell_type": "markdown",
   "id": "c05a1462-1848-41ba-b65d-dd7ad2cd7ca0",
   "metadata": {},
   "source": [
    "The sums are all zero because no matter how many points we use there is always a value below x=0 that corresponds with the value on the positive side as long as the interval is some combination of [-A, A] \n"
   ]
  },
  {
   "cell_type": "code",
   "execution_count": 19,
   "id": "d0cb5813-b520-433a-b115-a9d7746466f7",
   "metadata": {},
   "outputs": [
    {
     "name": "stdout",
     "output_type": "stream",
     "text": [
      "Left Riemann Sum\n",
      "10 Intervals from -2 to 2: -32.000000000\n",
      "Left Riemann Sum\n",
      "100 Intervals from -2 to 2: -32.000000000\n",
      "Left Riemann Sum\n",
      "1000 Intervals from -2 to 2: -32.000000000\n",
      "Left Riemann Sum\n"
     ]
    },
    {
     "data": {
      "text/plain": [
       "-1.600000000000002"
      ]
     },
     "execution_count": 19,
     "metadata": {},
     "output_type": "execute_result"
    },
    {
     "data": {
      "image/png": "[encoded data removed]",
      "text/plain": [
       "<Figure size 640x480 with 1 Axes>"
      ]
     },
     "metadata": {},
     "output_type": "display_data"
    }
   ],
   "source": [
    "#12 b) Repeat part (a) using left endpoint Riemann sums. Are the results still\n",
    "#zero? Can you explain the diﬀerence, if any, between these two results?\n",
    "\n",
    "for num in intervals:\n",
    "    result = left(H, a, b, num, False, False)\n",
    "    print(f\"{num} Intervals from {a} to {b}: {result:.9f}\")\n",
    "    \n",
    "left(H, a, b, 20, True, False)"
   ]
  },
  {
   "cell_type": "markdown",
   "id": "18ed7f76-2a33-41e9-8191-805f35feb920",
   "metadata": {},
   "source": [
    "As demonstrated in the graph above, the left endpoint doesn't always match up with above and below the x=0 point compared to the midpoint sum. In this case the lack of symmetry ends up with a negative total Riemann sum. If this was run again with right endpoint it would result in a positive sum when the true value is zero."
   ]
  },
  {
   "cell_type": "markdown",
   "id": "362e434d-d6ad-43ea-8573-4d18d5d36d87",
   "metadata": {},
   "source": [
    "### Activity 4\n",
    "\n",
    "Modify RIEMANN again with either the Trapezoid rule or the Simpsons Rule. What are the advantages of these methods. "
   ]
  },
  {
   "cell_type": "code",
   "execution_count": 20,
   "id": "4813aecc-7c7c-499b-ae9a-c63efbe8f76e",
   "metadata": {},
   "outputs": [],
   "source": [
    "\n",
    "def trapezoid(func, a, b, numberofsteps, plot, display):\n",
    "    print(\"Trapezoid Riemann Sum\")\n",
    "    deltax = (b-a)/numberofsteps\n",
    "    x = a\n",
    "    accumulation = 0\n",
    "    for k in range (numberofsteps):\n",
    "        \n",
    "        # Calculate left side\n",
    "        Ldelta = func(x)*deltax\n",
    "        # Calculate right side \n",
    "        Rdelta = func(x+deltax)*deltax\n",
    "        \n",
    "        #Average the two to determine trapezoid area\n",
    "        deltaS = (Ldelta+Rdelta)/2\n",
    "        accumulation = accumulation + deltaS\n",
    "        if display:\n",
    "            print(x, deltaS, accumulation)\n",
    "        \n",
    "        if plot:#this plots the box of the Rieman sum boxes if requested\n",
    "            xplot = [x, x, x+deltax, x+deltax]\n",
    "            yplot = [0, func(x), func(x+deltax), 0]\n",
    "            plt.plot(xplot, yplot,color=\"purple\") \n",
    "            plt.fill_between([x, x + deltax], [func(x), func(x+deltax)], color=\"purple\", alpha=0.3)\n",
    "            xvals = np.linspace(a, b, 1000)\n",
    "            plt.plot(xvals, func(xvals), color =\"black\" )\n",
    "            plt.grid(True)\n",
    "            plt.show              \n",
    "        x = x + deltax #set x to for the next interval\n",
    "    return accumulation\n",
    "\n",
    "def simpsons(func, a, b, numberofsteps, plot, display):\n",
    "    print(\"Simpson's Riemann Sum\")\n",
    "    deltax = (b-a)/numberofsteps\n",
    "    x = a\n",
    "    accumulation = 0\n",
    "    for k in range (numberofsteps):\n",
    "        \n",
    "        # Calculate left side\n",
    "        Ldelta = func(x)*deltax\n",
    "        # Calculate right side \n",
    "        Rdelta = func(x+deltax)*deltax\n",
    "        #Calculate midpoint\n",
    "        Mdelta = func(x+(deltax/2))*deltax\n",
    "        \n",
    "        #Apply Simpson's Rule\n",
    "        deltaS = (Ldelta+Rdelta+4*Mdelta)/6\n",
    "        accumulation = accumulation + deltaS\n",
    "        if display:\n",
    "            print(x, deltaS, accumulation)\n",
    "        \n",
    "        if plot:#this plots the box of the Rieman sum boxes if requested\n",
    "            xplot = [x, x, x+deltax, x+deltax]\n",
    "            yplot = [0, func(x), func(x+deltax), 0]\n",
    "            plt.plot(xplot, yplot,color=\"purple\") \n",
    "            xvals = np.linspace(a, b, 1000)\n",
    "            plt.plot(xvals, func(xvals), color =\"black\" )\n",
    "            plt.grid(True)\n",
    "            plt.show              \n",
    "        x = x + deltax #set x to for the next interval\n",
    "    return accumulation  "
   ]
  },
  {
   "cell_type": "code",
   "execution_count": 21,
   "id": "36ac6734-f203-4f2c-ab9f-40ff9c5302cc",
   "metadata": {},
   "outputs": [
    {
     "name": "stdout",
     "output_type": "stream",
     "text": [
      "Left Riemann Sum\n",
      "1 0.7071067811865476 0.7071067811865476\n",
      "1.5 1.0458250331675945 1.7529318143541421\n",
      "2.0 1.5 3.252931814354142\n",
      "2.5 2.038688303787511 5.291620118141653\n",
      "Trapezoid Riemann Sum\n",
      "1 0.8764659071770711 0.8764659071770711\n",
      "1.5 1.2729125165837973 2.1493784237608686\n",
      "2.0 1.7693441518937556 3.9187225756546242\n",
      "2.5 2.342219807426051 6.260942383080675\n",
      "Simpson's Riemann Sum\n",
      "1 0.864977264261837 0.864977264261837\n",
      "1.5 1.2648975472709332 2.12987481153277\n",
      "2.0 1.7631253706586456 3.8930001821914155\n",
      "2.5 2.3369773855572755 6.229977567748691\n"
     ]
    },
    {
     "data": {
      "text/plain": [
       "6.229977567748691"
      ]
     },
     "execution_count": 21,
     "metadata": {},
     "output_type": "execute_result"
    },
    {
     "data": {
      "image/png": "[encoded data removed]",
      "text/plain": [
       "<Figure size 640x480 with 1 Axes>"
      ]
     },
     "metadata": {},
     "output_type": "display_data"
    }
   ],
   "source": [
    "a = 1\n",
    "b = 3\n",
    "numberofsteps = 4\n",
    "left(fnf, a, b, numberofsteps, True, True)\n",
    "trapezoid(fnf, a, b, numberofsteps, True, True)\n",
    "simpsons(fnf, a, b, numberofsteps, False, True) #plotting for Simpson's is not accurate yet"
   ]
  },
  {
   "cell_type": "markdown",
   "id": "6ae90ee5-9cb2-4261-b161-f52c7f7d83eb",
   "metadata": {},
   "source": [
    "By averaging the values of the left and right Rieman sum to get the trapezoid, we achieve a much more accurate value for the area. I also appreciate the simple math that allows for the calculation of the box and the triangle without having to decide if Left or Right makes the most sense for that calculation. Simpson's takes that even further by combining midpoint and trapezoidal to cancel out errors."
   ]
  },
  {
   "cell_type": "code",
   "execution_count": null,
   "id": "7c5a795a-4641-4f32-85c6-3d3c02c30511",
   "metadata": {},
   "outputs": [],
   "source": []
  }
 ],
 "metadata": {
  "kernelspec": {
   "display_name": "Python 3 (ipykernel)",
   "language": "python",
   "name": "python3"
  },
  "language_info": {
   "codemirror_mode": {
    "name": "ipython",
    "version": 3
   },
   "file_extension": ".py",
   "mimetype": "text/x-python",
   "name": "python",
   "nbconvert_exporter": "python",
   "pygments_lexer": "ipython3",
   "version": "3.10.8"
  }
 },
 "nbformat": 4,
 "nbformat_minor": 5
}
