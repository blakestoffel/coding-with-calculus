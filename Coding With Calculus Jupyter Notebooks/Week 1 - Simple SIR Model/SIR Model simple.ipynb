{
 "cells": [
  {
   "cell_type": "code",
   "execution_count": 15,
   "id": "330492d1-5787-4034-823d-5eef0a36d3cd",
   "metadata": {},
   "outputs": [
    {
     "name": "stdout",
     "output_type": "stream",
     "text": [
      "t = 0 S = 45400 I = 2100 R = 2500\n",
      "t = 1 S = 44446.6 I = 2903.4 R = 2650.0\n",
      "t = 2 S = 43156.137415599995 I = 3986.4768701142857 R = 2857.385714285714\n",
      "t = 3 S = 41435.72797949237 I = 5422.13795835661 R = 3142.1340621510203\n"
     ]
    }
   ],
   "source": [
    "t = 0\n",
    "S = 45400\n",
    "I = 2100\n",
    "R = 2500\n",
    "deltat = 1\n",
    "print (\"t = \" + str(t), \"S = \" + str(S), \"I = \" + str(I), \"R = \" + str(R))\n",
    "for x in range(3):\n",
    "    \n",
    "    Sprime = -.00001 * S * I\n",
    "    Iprime = .00001 * S * I - I/14\n",
    "    Rprime = I/14\n",
    "    deltaS = Sprime * deltat\n",
    "    deltaI = Iprime * deltat\n",
    "    deltaR = Rprime * deltat\n",
    "    t = t + deltat\n",
    "    S = S + deltaS\n",
    "    I = I + deltaI\n",
    "    R = R + deltaR \n",
    "    print (\"t = \" + str(t), \"S = \" + str(S), \"I = \" + str(I), \"R = \" + str(R))\n"
   ]
  },
  {
   "cell_type": "code",
   "execution_count": null,
   "id": "4c818e89-c057-480c-9a49-f29c25efbe50",
   "metadata": {},
   "outputs": [],
   "source": []
  }
 ],
 "metadata": {
  "kernelspec": {
   "display_name": "Python 3 (ipykernel)",
   "language": "python",
   "name": "python3"
  },
  "language_info": {
   "codemirror_mode": {
    "name": "ipython",
    "version": 3
   },
   "file_extension": ".py",
   "mimetype": "text/x-python",
   "name": "python",
   "nbconvert_exporter": "python",
   "pygments_lexer": "ipython3",
   "version": "3.10.8"
  }
 },
 "nbformat": 4,
 "nbformat_minor": 5
}
